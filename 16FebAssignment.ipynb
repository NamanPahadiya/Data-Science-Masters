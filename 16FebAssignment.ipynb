{
 "cells": [
  {
   "cell_type": "markdown",
   "metadata": {},
   "source": [
    "# Ans 1:"
   ]
  },
  {
   "cell_type": "code",
   "execution_count": 1,
   "metadata": {},
   "outputs": [
    {
     "data": {
      "text/plain": [
       "'\\nA database is a structured collection of data that is organized and stored in a way that allows efficient retrieval, management, and manipulation of information.\\n\\n# SQL (Structured Query Language) Databases:\\nSQL databases are based on a structured data model and use a relational schema to define tables, columns, and relationships between them.\\nData is stored in tables with rows and columns.\\nExamples of SQL Database - MySQl,MsSQL.\\n\\n# NoSQL(Not Only Structured Query Language) Databases:\\nNoSQL databases are designed to handle large volumes of unstructured or semi-structured data.\\nData can be stored in form of texts,videos,images.\\nExample of NoSQL Database - MongoDB,Oracle,Neo4j\\n\\n'"
      ]
     },
     "execution_count": 1,
     "metadata": {},
     "output_type": "execute_result"
    }
   ],
   "source": [
    "\"\"\"\n",
    "A database is a structured collection of data that is organized and stored in a way that allows efficient retrieval, management, and manipulation of information.\n",
    "\n",
    "# SQL (Structured Query Language) Databases:\n",
    "SQL databases are based on a structured data model and use a relational schema to define tables, columns, and relationships between them.\n",
    "Data is stored in tables with rows and columns.\n",
    "Examples of SQL Database - MySQl,MsSQL.\n",
    "\n",
    "# NoSQL(Not Only Structured Query Language) Databases:\n",
    "NoSQL databases are designed to handle large volumes of unstructured or semi-structured data.\n",
    "Data can be stored in form of texts,videos,images.\n",
    "Example of NoSQL Database - MongoDB,Oracle,Neo4j\n",
    "\n",
    "\"\"\""
   ]
  },
  {
   "cell_type": "markdown",
   "metadata": {},
   "source": [
    "# Ans 2:"
   ]
  },
  {
   "cell_type": "code",
   "execution_count": 4,
   "metadata": {},
   "outputs": [
    {
     "name": "stdout",
     "output_type": "stream",
     "text": [
      "<mysql.connector.connection_cext.CMySQLConnection object at 0x7f881bb125b0>\n"
     ]
    }
   ],
   "source": [
    "\"\"\"\n",
    "DDL (Data Definition Language): \n",
    "# DDL is a subset of SQL (Structured Query Language) used to define and manage the structure of a database, including creating, modifying,\n",
    "  and deleting database objects such as tables, indexes, and constraints.\n",
    "# DDL statements do not deal with the actual manipulation of data. \n",
    "\"\"\"\n",
    "# The 'CREATE' statement is used to create new database objects.\n",
    "import mysql.connector\n",
    "mydb = mysql.connector.connect(\n",
    "  host=\"localhost\",\n",
    "  user=\"abc\",\n",
    "  password=\"password\"\n",
    ")\n",
    "print(mydb)\n",
    "mycursor = mydb.cursor()\n",
    "mycursor.execute(\"CREATE DATABASE if not exists Information \")\n",
    "mycursor.execute(\"CREATE TABLE if not exists Information.STUDENTS (ID INT,Name VARCHAR(50),Marks FLOAT)\")\n",
    "mydb.close()"
   ]
  },
  {
   "cell_type": "code",
   "execution_count": 5,
   "metadata": {},
   "outputs": [
    {
     "name": "stdout",
     "output_type": "stream",
     "text": [
      "<mysql.connector.connection_cext.CMySQLConnection object at 0x7f881bb128e0>\n"
     ]
    }
   ],
   "source": [
    "# The ALTER statement is used to modify existing database objects, such as adding, modifying, or deleting columns from a table.\n",
    "import mysql.connector\n",
    "mydb = mysql.connector.connect(\n",
    "  host=\"localhost\",\n",
    "  user=\"abc\",\n",
    "  password=\"password\"\n",
    ")\n",
    "print(mydb)\n",
    "mycursor = mydb.cursor()\n",
    "mycursor.execute(\"ALTER TABLE Information.STUDENTS ADD COLUMN Branch VARCHAR(40)\")\n",
    "mydb.close()"
   ]
  },
  {
   "cell_type": "code",
   "execution_count": 6,
   "metadata": {},
   "outputs": [
    {
     "name": "stdout",
     "output_type": "stream",
     "text": [
      "<mysql.connector.connection_cext.CMySQLConnection object at 0x7f881bb12df0>\n"
     ]
    }
   ],
   "source": [
    "# The DROP statement is used to delete existing database objects, such as tables,columns, views, and indexes.\n",
    "import mysql.connector\n",
    "mydb = mysql.connector.connect(\n",
    "  host=\"localhost\",\n",
    "  user=\"abc\",\n",
    "  password=\"password\"\n",
    ")\n",
    "print(mydb)\n",
    "mycursor = mydb.cursor()\n",
    "mycursor.execute(\"ALTER TABLE Information.STUDENTS DROP COLUMN Branch\")\n",
    "mydb.close()"
   ]
  },
  {
   "cell_type": "code",
   "execution_count": 7,
   "metadata": {},
   "outputs": [
    {
     "name": "stdout",
     "output_type": "stream",
     "text": [
      "<mysql.connector.connection_cext.CMySQLConnection object at 0x7f881bb12550>\n"
     ]
    }
   ],
   "source": [
    "#The TRUNCATE statement is used to remove all rows from a table, but it retains the structure of the table. \n",
    "import mysql.connector\n",
    "mydb = mysql.connector.connect(\n",
    "  host=\"localhost\",\n",
    "  user=\"abc\",\n",
    "  password=\"password\"\n",
    ")\n",
    "print(mydb)\n",
    "mycursor = mydb.cursor()\n",
    "mycursor.execute(\"TRUNCATE TABLE Information.STUDENTS\")\n",
    "mydb.close()"
   ]
  },
  {
   "cell_type": "markdown",
   "metadata": {},
   "source": [
    "# Ans 3:"
   ]
  },
  {
   "cell_type": "code",
   "execution_count": 8,
   "metadata": {},
   "outputs": [
    {
     "data": {
      "text/plain": [
       "\"\\nDML stands for Data Manipulation Language. It's a subset of SQL used to interact with and manipulate data stored in a database.\\nDML consists of three main operations: INSERT, UPDATE, and DELETE.\\n\""
      ]
     },
     "execution_count": 8,
     "metadata": {},
     "output_type": "execute_result"
    }
   ],
   "source": [
    "\"\"\"\n",
    "DML stands for Data Manipulation Language. It's a subset of SQL used to interact with and manipulate data stored in a database.\n",
    "DML consists of three main operations: INSERT, UPDATE, and DELETE.\n",
    "\"\"\""
   ]
  },
  {
   "cell_type": "code",
   "execution_count": 12,
   "metadata": {},
   "outputs": [
    {
     "name": "stdout",
     "output_type": "stream",
     "text": [
      "<mysql.connector.connection_cext.CMySQLConnection object at 0x7f881bb12a90>\n"
     ]
    }
   ],
   "source": [
    "# INSERT: It adds new records (rows) to a table.\n",
    "import mysql.connector\n",
    "mydb = mysql.connector.connect(\n",
    "  host=\"localhost\",\n",
    "  user=\"abc\",\n",
    "  password=\"password\"\n",
    ")\n",
    "print(mydb)\n",
    "mycursor = mydb.cursor()\n",
    "mycursor.execute(\"CREATE TABLE if not exists Information.employees(ID INT,Name VARCHAR(50),PROFESSION VARCHAR(50),SALARY INT)\")\n",
    "mycursor.execute(\"INSERT INTO Information.employees values(1639,'AJAY','DATA SCIENTIST',100000)\")\n",
    "mydb.commit()\n",
    "mydb.close()"
   ]
  },
  {
   "cell_type": "code",
   "execution_count": 13,
   "metadata": {},
   "outputs": [
    {
     "name": "stdout",
     "output_type": "stream",
     "text": [
      "<mysql.connector.connection_cext.CMySQLConnection object at 0x7f883c06c790>\n"
     ]
    }
   ],
   "source": [
    "#UPDATE: It modifies existing records in a table.\n",
    "import mysql.connector\n",
    "mydb = mysql.connector.connect(\n",
    "  host=\"localhost\",\n",
    "  user=\"abc\",\n",
    "  password=\"password\"\n",
    ")\n",
    "print(mydb)\n",
    "mycursor = mydb.cursor()\n",
    "mycursor.execute(\"UPDATE Information.employees SET SALARY = 200000 WHERE ID = 1639\")\n",
    "mydb.commit()\n",
    "mydb.close()"
   ]
  },
  {
   "cell_type": "code",
   "execution_count": 14,
   "metadata": {},
   "outputs": [
    {
     "name": "stdout",
     "output_type": "stream",
     "text": [
      "<mysql.connector.connection_cext.CMySQLConnection object at 0x7f881bb12580>\n"
     ]
    }
   ],
   "source": [
    "# DELETE: It removes records from a table.\n",
    "import mysql.connector\n",
    "mydb = mysql.connector.connect(\n",
    "  host=\"localhost\",\n",
    "  user=\"abc\",\n",
    "  password=\"password\"\n",
    ")\n",
    "print(mydb)\n",
    "mycursor = mydb.cursor()\n",
    "mycursor.execute(\"DELETE FROM Information.employees WHERE ID = 1639\")\n",
    "mydb.commit()\n",
    "mydb.close()\n"
   ]
  },
  {
   "cell_type": "markdown",
   "metadata": {},
   "source": [
    "# Ans 4:"
   ]
  },
  {
   "cell_type": "code",
   "execution_count": 15,
   "metadata": {},
   "outputs": [
    {
     "data": {
      "text/plain": [
       "'\\nDQL stands for Data Query Language, and it is a subset of SQL (Structured Query Language) used for querying and retrieving data from a database.\\nThe primary command in DQL is the SELECT statement,\\nwhich allows you to specify the columns you want to retrieve and the conditions for filtering the data.\\n'"
      ]
     },
     "execution_count": 15,
     "metadata": {},
     "output_type": "execute_result"
    }
   ],
   "source": [
    "\"\"\"\n",
    "DQL stands for Data Query Language, and it is a subset of SQL (Structured Query Language) used for querying and retrieving data from a database.\n",
    "The primary command in DQL is the SELECT statement,\n",
    "which allows you to specify the columns you want to retrieve and the conditions for filtering the data.\n",
    "\"\"\""
   ]
  },
  {
   "cell_type": "code",
   "execution_count": 16,
   "metadata": {},
   "outputs": [
    {
     "name": "stdout",
     "output_type": "stream",
     "text": [
      "<mysql.connector.connection_cext.CMySQLConnection object at 0x7f88344b0f70>\n"
     ]
    }
   ],
   "source": [
    "import mysql.connector\n",
    "mydb = mysql.connector.connect(\n",
    "  host=\"localhost\",\n",
    "  user=\"abc\",\n",
    "  password=\"password\"\n",
    ")\n",
    "print(mydb)\n",
    "mycursor = mydb.cursor()\n",
    "mycursor.execute(\"INSERT INTO Information.employees values(1639,'AJAY','DATA SCIENTIST',100000)\")\n",
    "mycursor.execute(\"INSERT INTO Information.employees values(1640,'NAMAN','SDE',200000)\")\n",
    "mydb.commit()\n",
    "mydb.close()"
   ]
  },
  {
   "cell_type": "code",
   "execution_count": 20,
   "metadata": {},
   "outputs": [
    {
     "name": "stdout",
     "output_type": "stream",
     "text": [
      "<mysql.connector.connection_cext.CMySQLConnection object at 0x7f881bd70850>\n",
      "(1640, 'NAMAN', 'SDE', 200000)\n"
     ]
    }
   ],
   "source": [
    "import mysql.connector\n",
    "mydb = mysql.connector.connect(\n",
    "  host=\"localhost\",\n",
    "  user=\"abc\",\n",
    "  password=\"password\"\n",
    ")\n",
    "print(mydb)\n",
    "mycursor = mydb.cursor()\n",
    "mycursor.execute(\"SELECT ID,Name,PROFESSION,SALARY FROM Information.employees WHERE SALARY>100000\")\n",
    "for i in mycursor.fetchall():\n",
    "    print(i)\n",
    "mydb.commit()\n",
    "mydb.close()"
   ]
  },
  {
   "cell_type": "markdown",
   "metadata": {},
   "source": [
    "# Ans 5:"
   ]
  },
  {
   "cell_type": "code",
   "execution_count": 23,
   "metadata": {},
   "outputs": [
    {
     "data": {
      "text/plain": [
       "'\\nFOREIGN KEY:\\nA foreign key is a column or set of columns in a table that establishes a link between the data in two tables.\\nIt creates a relationship between tables by referencing the primary key of another table.\\nA foreign key references the primary key of another table.\\nIt ensures that values in the foreign key column correspond to existing values in the referenced primary key column.\\n'"
      ]
     },
     "execution_count": 23,
     "metadata": {},
     "output_type": "execute_result"
    }
   ],
   "source": [
    "\"\"\"\n",
    "PRIMARYY KEY:\n",
    "A primary key is a column or set of columns in a database table that uniquely identifies each record (row) in that table.\n",
    "Each value in the primary key column must be unique.\n",
    "The primary key column cannot contain null values.\n",
    "\"\"\"\n",
    "\n",
    "\"\"\"\n",
    "FOREIGN KEY:\n",
    "A foreign key is a column or set of columns in a table that establishes a link between the data in two tables.\n",
    "It creates a relationship between tables by referencing the primary key of another table.\n",
    "A foreign key references the primary key of another table.\n",
    "It ensures that values in the foreign key column correspond to existing values in the referenced primary key column.\n",
    "\"\"\""
   ]
  },
  {
   "cell_type": "markdown",
   "metadata": {},
   "source": [
    "# Ans 6:"
   ]
  },
  {
   "cell_type": "code",
   "execution_count": 24,
   "metadata": {},
   "outputs": [
    {
     "name": "stdout",
     "output_type": "stream",
     "text": [
      "<mysql.connector.connection_cext.CMySQLConnection object at 0x7f881bd508b0>\n",
      "('Information',)\n",
      "('information_schema',)\n",
      "('mysql',)\n",
      "('performance_schema',)\n",
      "('sys',)\n"
     ]
    }
   ],
   "source": [
    "# The code to connect MySQl to Pythonn:\n",
    "import mysql.connector\n",
    "# import mysql.connector\n",
    "#create user 'user'@'%' identified by 'password'\n",
    "mydb = mysql.connector.connect(\n",
    "  host=\"localhost\",\n",
    "  user=\"abc\",\n",
    "  password=\"password\" # You can also name the database you are working in as (database = \"yourdatabase\")\n",
    ")\n",
    "print(mydb)\n",
    "mycursor = mydb.cursor()\n",
    "mycursor.execute(\"SHOW DATABASES\")\n",
    "for x in mycursor:\n",
    "  print(x)"
   ]
  },
  {
   "cell_type": "code",
   "execution_count": 25,
   "metadata": {},
   "outputs": [],
   "source": [
    "# THE CURSOR() METHOD\n",
    "# The cursor() method is used to create a cursor object, which allows you to interact with the MySQL database.\n",
    "# A cursor acts as a pointer to a specific row of data and provides methods for executing SQL queries and fetching results.\n",
    "\n",
    "\n",
    "# THE EXECUTE() METHOD\n",
    "# The execute() method is used to execute SQL queries through the cursor.\n",
    "# You pass the SQL query as a parameter to the execute() method.\n",
    "# The cursor processes the query and communicates with the database to perform the requested operation"
   ]
  },
  {
   "cell_type": "markdown",
   "metadata": {},
   "source": [
    "# Ans 7:"
   ]
  },
  {
   "cell_type": "code",
   "execution_count": 27,
   "metadata": {},
   "outputs": [
    {
     "data": {
      "text/plain": [
       "'\\nThe clauses are generally executed in the following order:\\n1.SELECT\\n2.FROM\\n3.WHERE \\n4.GROUP BY\\n5.ORDER BY\\n6.INSERT \\n7.UPDATE\\n8.DELETE\\n'"
      ]
     },
     "execution_count": 27,
     "metadata": {},
     "output_type": "execute_result"
    }
   ],
   "source": [
    "\"\"\"\n",
    "The clauses are generally executed in the following order:\n",
    "1.SELECT\n",
    "2.FROM\n",
    "3.WHERE \n",
    "4.GROUP BY\n",
    "5.ORDER BY\n",
    "6.INSERT \n",
    "7.UPDATE\n",
    "8.DELETE\n",
    "\"\"\""
   ]
  },
  {
   "cell_type": "code",
   "execution_count": null,
   "metadata": {},
   "outputs": [],
   "source": []
  }
 ],
 "metadata": {
  "kernelspec": {
   "display_name": "Python 3.8.10 64-bit",
   "language": "python",
   "name": "python3"
  },
  "language_info": {
   "codemirror_mode": {
    "name": "ipython",
    "version": 3
   },
   "file_extension": ".py",
   "mimetype": "text/x-python",
   "name": "python",
   "nbconvert_exporter": "python",
   "pygments_lexer": "ipython3",
   "version": "3.8.10"
  },
  "orig_nbformat": 4,
  "vscode": {
   "interpreter": {
    "hash": "e7370f93d1d0cde622a1f8e1c04877d8463912d04d973331ad4851f04de6915a"
   }
  }
 },
 "nbformat": 4,
 "nbformat_minor": 2
}
