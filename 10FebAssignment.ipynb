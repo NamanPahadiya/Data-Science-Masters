{
 "cells": [
  {
   "cell_type": "code",
   "execution_count": 1,
   "metadata": {},
   "outputs": [
    {
     "data": {
      "text/plain": [
       "\"In Python, the open() function is used to open a file. It takes two arguments:\\n the file path/name and the mode in which the file should be opened.\\n \\nIn Python, the open() function is used to open a file. It takes two arguments: the file path/name and the mode in which the file should be opened.\\n The open() function returns a file object that can be used to perform various operations on the file.\\n\\nThe different modes of opening a file in Python are:\\n\\n'r' - Read Mode: This is the default mode when no mode is specified. It opens the file for reading.\\n\\n'w' - Write Mode: This mode opens the file for writing. If the file already exists, it truncates (clears) its content.\\n                  It will overwrite the existing content of the file.\\n\\n'a' - Append Mode: This mode opens the file for appending. When you write data in this mode, it is appended to the existing content of the file.\\n\\n'x' - Exclusive Creation Mode: This mode is used to create a new file but raises a FileExistsError if the file already exists.\\n\\n'b' - Binary Mode: This mode is used for binary file operations. \\n\\n't' - Text Mode: This mode is used for text file operations. Text mode allows you to read or write text-based data in the file.\\n\\n'+' - Update Mode: This mode allows you to perform both read and write operations on the file.\""
      ]
     },
     "execution_count": 1,
     "metadata": {},
     "output_type": "execute_result"
    }
   ],
   "source": [
    "#Ans1:\n",
    "\"\"\"In Python, the open() function is used to open a file. It takes two arguments:\n",
    " the file path/name and the mode in which the file should be opened.\n",
    " \n",
    "In Python, the open() function is used to open a file. It takes two arguments: the file path/name and the mode in which the file should be opened.\n",
    " The open() function returns a file object that can be used to perform various operations on the file.\n",
    "\n",
    "The different modes of opening a file in Python are:\n",
    "\n",
    "'r' - Read Mode: This is the default mode when no mode is specified. It opens the file for reading.\n",
    "\n",
    "'w' - Write Mode: This mode opens the file for writing. If the file already exists, it truncates (clears) its content.\n",
    "                  It will overwrite the existing content of the file.\n",
    "\n",
    "'a' - Append Mode: This mode opens the file for appending. When you write data in this mode, it is appended to the existing content of the file.\n",
    "\n",
    "'x' - Exclusive Creation Mode: This mode is used to create a new file but raises a FileExistsError if the file already exists.\n",
    "\n",
    "'b' - Binary Mode: This mode is used for binary file operations. \n",
    "\n",
    "'t' - Text Mode: This mode is used for text file operations. Text mode allows you to read or write text-based data in the file.\n",
    "\n",
    "'+' - Update Mode: This mode allows you to perform both read and write operations on the file.\"\"\""
   ]
  },
  {
   "cell_type": "code",
   "execution_count": 2,
   "metadata": {},
   "outputs": [],
   "source": [
    "#Ans2:\n",
    "#Close() function is used to close the file we haev opened.\n",
    "#It is important to use close function because without closing it we cannot view what we have written in file.\n",
    "#We have to close the file to save what we have written\n",
    "# If a large number of files are opened without closing them, it can lead to resource exhaustion."
   ]
  },
  {
   "cell_type": "code",
   "execution_count": 3,
   "metadata": {},
   "outputs": [],
   "source": [
    "#Ans3:\n",
    "f=open(\"test,txt\",\"w\")"
   ]
  },
  {
   "cell_type": "code",
   "execution_count": 4,
   "metadata": {},
   "outputs": [
    {
     "data": {
      "text/plain": [
       "33"
      ]
     },
     "execution_count": 4,
     "metadata": {},
     "output_type": "execute_result"
    }
   ],
   "source": [
    "f.write(\"I want to become a Data Scientist\")"
   ]
  },
  {
   "cell_type": "code",
   "execution_count": 6,
   "metadata": {},
   "outputs": [],
   "source": [
    "f.close()"
   ]
  },
  {
   "cell_type": "code",
   "execution_count": 1,
   "metadata": {},
   "outputs": [],
   "source": [
    "#Ans4: \n",
    "f=open(\"files.txt\",\"w\")\n",
    "f.write(\"This is the first line\\n\")\n",
    "f.write(\"This is the second line\\n\")\n",
    "f.write(\"This is the third line\\n\")\n",
    "f.write(\"This is the  fourth line\\n\")\n",
    "f.close()"
   ]
  },
  {
   "cell_type": "code",
   "execution_count": 4,
   "metadata": {},
   "outputs": [
    {
     "name": "stdout",
     "output_type": "stream",
     "text": [
      "This is the first line\n",
      "This is the second line\n",
      "This is the third line\n",
      "This is the  fourth line\n",
      "\n"
     ]
    }
   ],
   "source": [
    "\n",
    "#read(): The read() method is used to read the entire contents of a file as a single string.\n",
    "f=open(\"files.txt\",\"r\")\n",
    "content=f.read()\n",
    "print(content)\n",
    "f.close()"
   ]
  },
  {
   "cell_type": "code",
   "execution_count": 5,
   "metadata": {},
   "outputs": [
    {
     "name": "stdout",
     "output_type": "stream",
     "text": [
      "This is the first line\n",
      "\n",
      "This is the second line\n",
      "\n"
     ]
    }
   ],
   "source": [
    "#readline(): The readline() method is used to read a single line from the file.\n",
    "#It reads from the current file position until it encounters a newline character (\\n) or reaches the end of the file.\n",
    "f=open(\"files.txt\",\"r\")\n",
    "line1=f.readline()\n",
    "print(line1)\n",
    "line2=f.readline()\n",
    "print(line2)"
   ]
  },
  {
   "cell_type": "code",
   "execution_count": 6,
   "metadata": {},
   "outputs": [
    {
     "name": "stdout",
     "output_type": "stream",
     "text": [
      "This is the first line\n",
      "\n",
      "This is the second line\n",
      "\n",
      "This is the third line\n",
      "\n",
      "This is the  fourth line\n",
      "\n"
     ]
    }
   ],
   "source": [
    "#readlines(): The readlines() method is used to read all lines from the file and return them as a list of strings.\n",
    "# Each line in the file becomes an element in the list.\n",
    "f=open(\"oops.txt\",\"r\")\n",
    "lines=f.readlines()\n",
    "for line in lines:\n",
    "    print(line)"
   ]
  },
  {
   "cell_type": "code",
   "execution_count": 7,
   "metadata": {},
   "outputs": [
    {
     "data": {
      "text/plain": [
       "'This is the third line\\n'"
      ]
     },
     "execution_count": 7,
     "metadata": {},
     "output_type": "execute_result"
    }
   ],
   "source": [
    "lines[2]"
   ]
  },
  {
   "cell_type": "code",
   "execution_count": 8,
   "metadata": {},
   "outputs": [
    {
     "data": {
      "text/plain": [
       "'The with statement allows for seamless exception handling'"
      ]
     },
     "execution_count": 8,
     "metadata": {},
     "output_type": "execute_result"
    }
   ],
   "source": [
    "#Ans5:\n",
    "\"\"\"with() and open() functions are used together to handle file operations.\n",
    "It provides a context manager that automatically takes care of resource management and exception handling. \n",
    "When using with statement with open(), the file is automatically closed when the block of code within the with statement is exited,\n",
    " even if an exception occurs\"\"\"\n",
    " #Advantages of using with() and open() statement together:\n",
    "\"\"\"The with statement increases the readability and maintainability of the code.\"\"\"\n",
    "\"\"\"The code becomes more concise and easier to understand, as the opening and closing of the file are handled implicitly\"\"\"\n",
    "\"\"\"It automatically handles the cleanup process, releasing system resources associated with the file.\n",
    " This eliminates the need to explicitly call the close() method, reducing the chances of resource leaks and making the code more robust.\"\"\"\n",
    "\"\"\"The with statement allows for seamless exception handling\"\"\"\n",
    "\n"
   ]
  },
  {
   "cell_type": "code",
   "execution_count": 11,
   "metadata": {},
   "outputs": [],
   "source": [
    "#Ans6:\n",
    "#write(): The write() function is used to write a string of data to a file.\n",
    "# It takes a string as an argument and appends the data to the file.\n",
    "file = open(\"example.txt\",\"w\")\n",
    "file.write(\"line1\\n\")\n",
    "file.write(\"line2\\n\")\n",
    "file.write(\"line3\")\n",
    "file.close()\n",
    "#we open a file named 'example.txt' in write mode and use the write() function to write three lines of data to the file\n"
   ]
  },
  {
   "cell_type": "code",
   "execution_count": 12,
   "metadata": {},
   "outputs": [],
   "source": [
    "\"\"\" The writelines() function is used to write multiple lines of data to a file. \n",
    "It takes a list or iterable containing strings as an argument. \n",
    "Each string in the list is written to the file as a separate line\"\"\"\n",
    "\n",
    "file = open(\"example1.txt\", \"w\")\n",
    "lines = [\"Line 1\\n\", \"Line 2\\n\", \"Line 3\\n\"]\n",
    "file.writelines(lines)\n",
    "file.close()\n",
    "\n",
    "#we open a file named 'example.txt' in write mode and use the writelines() function to write three lines of data to the file.\n",
    "#Each line is specified as a string in the lines."
   ]
  },
  {
   "cell_type": "code",
   "execution_count": null,
   "metadata": {},
   "outputs": [],
   "source": []
  },
  {
   "cell_type": "code",
   "execution_count": null,
   "metadata": {},
   "outputs": [],
   "source": []
  },
  {
   "cell_type": "code",
   "execution_count": null,
   "metadata": {},
   "outputs": [],
   "source": []
  }
 ],
 "metadata": {
  "kernelspec": {
   "display_name": "Python 3",
   "language": "python",
   "name": "python3"
  },
  "language_info": {
   "codemirror_mode": {
    "name": "ipython",
    "version": 3
   },
   "file_extension": ".py",
   "mimetype": "text/x-python",
   "name": "python",
   "nbconvert_exporter": "python",
   "pygments_lexer": "ipython3",
   "version": "3.11.2"
  },
  "orig_nbformat": 4
 },
 "nbformat": 4,
 "nbformat_minor": 2
}
