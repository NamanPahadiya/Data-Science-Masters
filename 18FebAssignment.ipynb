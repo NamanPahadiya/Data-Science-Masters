{
 "cells": [
  {
   "cell_type": "markdown",
   "metadata": {},
   "source": [
    "# Ans 1:"
   ]
  },
  {
   "cell_type": "code",
   "execution_count": 1,
   "metadata": {},
   "outputs": [
    {
     "data": {
      "text/plain": [
       "\"\\nLike when we buy a product from any e-commercee website it sends he transaction details to the Bank's Payment Gateway API. The API checks everything and ensures  that\\nthe transcton is secure. If everything is good it sends back the approval response allowing the purchase to go through.  \\n\""
      ]
     },
     "execution_count": 1,
     "metadata": {},
     "output_type": "execute_result"
    }
   ],
   "source": [
    "\"\"\"\n",
    "An API, or Application Programming Interface, is a set of rules and protocols that allows different software applications to communicate with each other. \n",
    "It defines the methods and data formats that applications can use to request and exchange information or perform specific functions.\n",
    "\"\"\"\n",
    "# Payment Gateway is an example where API is used in real life.\n",
    "\"\"\"\n",
    "Like when we buy a product from any e-commercee website it sends he transaction details to the Bank's Payment Gateway API. The API checks everything and ensures  that\n",
    "the transcton is secure. If everything is good it sends back the approval response allowing the purchase to go through.  \n",
    "\"\"\""
   ]
  },
  {
   "cell_type": "markdown",
   "metadata": {},
   "source": [
    "# Ans 2:"
   ]
  },
  {
   "cell_type": "code",
   "execution_count": 2,
   "metadata": {},
   "outputs": [
    {
     "data": {
      "text/plain": [
       "'Disadvantages of using API'"
      ]
     },
     "execution_count": 2,
     "metadata": {},
     "output_type": "execute_result"
    }
   ],
   "source": [
    "\"\"\"Advantages of using API\"\"\"\n",
    "# APIs enable different software systems, platforms, and services to work together.This promotes interoperability and fosters a rich ecosystem of interconnected applications.\n",
    "# APIs can handle a large number of requests simultaneously.\n",
    "# APIs provide pre-built solutions, reducing development time and costs.\n",
    "# APIs allow developers to extend the functionality of their applications without building everything from scratch.\n",
    "\n",
    "\"\"\"Disadvantages of using API\"\"\"\n",
    "#  Relying on third-party APIs means your application's functionality can be impacted if the external service experiences downtime or changes its API.\n",
    "#  If not properly secured, APIs can be vulnerable to attacks such as unauthorized access, data breaches.\n",
    "#  The performance of your application can be affected if you rely heavily on external APIs, as network latency and response times can vary."
   ]
  },
  {
   "cell_type": "markdown",
   "metadata": {},
   "source": [
    "# Ans 3:"
   ]
  },
  {
   "cell_type": "code",
   "execution_count": 3,
   "metadata": {},
   "outputs": [
    {
     "data": {
      "text/plain": [
       "'\\nWeb API specifically refers to APIs designed for web-based communication over HTTP, while API is a broader term.\\n'"
      ]
     },
     "execution_count": 3,
     "metadata": {},
     "output_type": "execute_result"
    }
   ],
   "source": [
    "\"\"\"\n",
    "An API is a set of rules and protocols that allow different software applications to communicate with each other.\n",
    "It defines the methods and data formats that applications can use to request and exchange information.\n",
    "A Web API is a specific type of API that is designed to be accessed over the internet using HTTP (Hypertext Transfer Protocol). \n",
    "It enables communication and data exchange between web servers and clients.\n",
    "\"\"\"\n",
    "\n",
    "\"\"\"API\"\"\"\n",
    "#  APIs can use various protocols, including HTTP,TCP,HTTP  and  they are not limited to web-based communication.\n",
    "# APIs can be used for a wide range of purposes, including hardware interaction, operating system services, and more.\n",
    "\n",
    "\n",
    "\"\"\"Web API\"\"\"\n",
    "#  Web APIs specifically use HTTP for communication and are designed for web-based access.\n",
    "# Web APIs are primarily used for web-related tasks, such as accessing web services, retrieving web-based data, or interacting with online platforms.\n",
    "\n",
    "\"\"\"\n",
    "Web API specifically refers to APIs designed for web-based communication over HTTP, while API is a broader term.\n",
    "\"\"\""
   ]
  },
  {
   "cell_type": "markdown",
   "metadata": {},
   "source": [
    "# Ans 4:"
   ]
  },
  {
   "cell_type": "code",
   "execution_count": 4,
   "metadata": {},
   "outputs": [
    {
     "data": {
      "text/plain": [
       "'Shortcomings of SOAP'"
      ]
     },
     "execution_count": 4,
     "metadata": {},
     "output_type": "execute_result"
    }
   ],
   "source": [
    "\"\"\"REST (Representational State Transfer) Architecture:\"\"\"\n",
    "# Each request from a client to a server must contain all the information needed to understand and process the request.\n",
    "# The server should not store any information about the client's state between requests\n",
    "# REST separates the client from the server. Clients are responsible for the user interface and user experience, while servers are responsible for data storage and processing.\n",
    "# It typically relies on standard HTTP methods (GET, POST, PUT, DELETE).\n",
    "# In REST, everything is treated as a resource, such as data objects, images, or services.\n",
    "\n",
    "\"\"\"SOAP (Simple Object Access Protocol) Architecture:\"\"\" \n",
    "# SOAP is a protocol for exchanging structured information in the implementation of web services.\n",
    "# SOAP messages are encoded in XML format, making them platform-independent and human-readable.\n",
    "# WSDL is an XML-based language used to describe the functionality of a web service. It serves as a contract between the service provider and the service consumer.\n",
    "# SOAP supports complex operations and can include features like security, transactions, and more.\n",
    "# While SOAP messages are often transported over HTTP, SOAP itself is protocol-independent and can be used with other transport protocols like SMTP.\n",
    "\n",
    "\"\"\"Shortcomings of SOAP\"\"\"\n",
    "# SOAP's strict specification and XML-based format make it more complex.\n",
    "# SOAP is not natively supported in web browsers, making it less suitable for client-side web applications.\n",
    "# SOAP messages tend to be verbose due to their XML format, leading to larger message sizes and increased network traffic."
   ]
  },
  {
   "cell_type": "markdown",
   "metadata": {},
   "source": [
    "# Ans 5:"
   ]
  },
  {
   "cell_type": "code",
   "execution_count": 5,
   "metadata": {},
   "outputs": [
    {
     "data": {
      "text/plain": [
       "'SOAP'"
      ]
     },
     "execution_count": 5,
     "metadata": {},
     "output_type": "execute_result"
    }
   ],
   "source": [
    "\"\"\"REST\"\"\"\n",
    "# REST is an architectural style that is based on a set of constraints and principles. It emphasizes a stateless client-server interaction.\n",
    "# REST is not a protocol but rather an architectural style. It can use various protocols, with HTTP being the most common choice.\n",
    "# RESTful APIs are easily consumed by web browsers, making them suitable for building web applications.\n",
    "# REST is often used for web-based services, public APIs, and mobile applications. It's well-suited for scenarios where simplicity and scalability are important.\n",
    "# REST typically uses lightweight formats like JSON or XML for message payloads. These formats are human-readable and easy to work with. \n",
    "\n",
    "\"\"\"SOAP\"\"\"\n",
    "# SOAP is a protocol for structuring messages used in web services. It defines a strict and standardized way to format messages.\n",
    "# SOAP is a protocol with its own standards for message formatting and communication. It often uses HTTP, SMTP, or other transport protocols.\n",
    "# SOAP is not natively supported by web browsers, which limits its use in client-side web applications.\n",
    "# SOAP is commonly used in enterprise-level applications and scenarios where strict protocols, security, and complex operations are required.\n",
    "# SOAP messages are encoded in XML, which can be more verbose and complex compared to JSON."
   ]
  },
  {
   "cell_type": "code",
   "execution_count": null,
   "metadata": {},
   "outputs": [],
   "source": []
  }
 ],
 "metadata": {
  "kernelspec": {
   "display_name": "Python 3",
   "language": "python",
   "name": "python3"
  },
  "language_info": {
   "codemirror_mode": {
    "name": "ipython",
    "version": 3
   },
   "file_extension": ".py",
   "mimetype": "text/x-python",
   "name": "python",
   "nbconvert_exporter": "python",
   "pygments_lexer": "ipython3",
   "version": "3.11.2"
  },
  "orig_nbformat": 4
 },
 "nbformat": 4,
 "nbformat_minor": 2
}
