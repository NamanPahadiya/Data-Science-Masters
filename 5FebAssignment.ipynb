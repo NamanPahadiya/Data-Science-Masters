{
 "cells": [
  {
   "cell_type": "code",
   "execution_count": 1,
   "metadata": {},
   "outputs": [],
   "source": [
    "#Ans1:Classes are user-defined data types that act as the blueprint for individual objects, attributes and methods. \n",
    "#Objects are instances of a class created with specifically defined data.\n",
    "#Objects can correspond to real-world objects or an abstract entity.\n",
    "\n",
    "\n",
    "class assignment: #Assignment is the name of the class\n",
    "    \n",
    "    def Solutions(self):\n",
    "        print(\"This is the solution of Q1\")"
   ]
  },
  {
   "cell_type": "code",
   "execution_count": 2,
   "metadata": {},
   "outputs": [],
   "source": [
    "Answer_1=assignment() #Answer_1 is the Object"
   ]
  },
  {
   "cell_type": "code",
   "execution_count": 4,
   "metadata": {},
   "outputs": [
    {
     "name": "stdout",
     "output_type": "stream",
     "text": [
      "This is the solution of Q1\n"
     ]
    }
   ],
   "source": [
    "Answer_1.Solutions()"
   ]
  },
  {
   "cell_type": "code",
   "execution_count": 5,
   "metadata": {},
   "outputs": [],
   "source": [
    "#Ans2:The four pillars of OOPs are-\n",
    "#Polymorphism\n",
    "#Encapsulation\n",
    "#Inheritance\n",
    "#Abstraction"
   ]
  },
  {
   "cell_type": "code",
   "execution_count": 6,
   "metadata": {},
   "outputs": [],
   "source": [
    "#Ans3:The __init__ function is called every time an object is created from a class.\n",
    "#The __init__ method lets the class initialize the object's attributes. It is only used within classes.\n",
    "#It's a constructor\n",
    "\n",
    "\n",
    "class Favourites:\n",
    "    \n",
    "    def __init__(self ,favourite_aniaml, favourite_colour, favourite_bird ):\n",
    "        \n",
    "        self.favourite_aniaml = favourite_aniaml\n",
    "        self.favourite_colour= favourite_colour\n",
    "        self.favourite_bird = favourite_bird\n",
    "        \n",
    "    \n",
    "    def return_favourites(self):\n",
    "        return self.favourite_aniaml, self.favourite_colour , self.favourite_bird"
   ]
  },
  {
   "cell_type": "code",
   "execution_count": 7,
   "metadata": {},
   "outputs": [],
   "source": [
    "Naman=Favourites(\"Elephant\",\"Black\",\"Peacock\")#Naman is an object here"
   ]
  },
  {
   "cell_type": "code",
   "execution_count": 8,
   "metadata": {},
   "outputs": [
    {
     "data": {
      "text/plain": [
       "('Elephant', 'Black', 'Peacock')"
      ]
     },
     "execution_count": 8,
     "metadata": {},
     "output_type": "execute_result"
    }
   ],
   "source": [
    "Naman.return_favourites()"
   ]
  },
  {
   "cell_type": "code",
   "execution_count": 9,
   "metadata": {},
   "outputs": [],
   "source": [
    "#Ans4:The self parameter is a reference to the current instance of the class, and is used to access variables that belongs to the class.\n",
    "#Whenever we are creating a function in a class we have to give a pointer or reference to bind it.\n",
    "#Class only understand data which is associated wit pointer variable."
   ]
  },
  {
   "cell_type": "code",
   "execution_count": 10,
   "metadata": {},
   "outputs": [],
   "source": [
    "#Ans5:Inheritance is a mechanism in which one class acquires the property of another class.\n",
    "#For example, a child inherits the traits of his/her parents. \n",
    "#With inheritance, we can reuse the fields and methods of the existing class.\n",
    "#There are 5 types of inheritance in python"
   ]
  },
  {
   "cell_type": "code",
   "execution_count": 11,
   "metadata": {},
   "outputs": [],
   "source": [
    "#Single Inheritane\n",
    "class class_1:\n",
    "    def test_1(self):\n",
    "        print(\"This is class 1\")\n",
    "\n",
    "class class_2(class_1):\n",
    "    def test_2(self):\n",
    "        print(\"This is class 2\")"
   ]
  },
  {
   "cell_type": "code",
   "execution_count": 12,
   "metadata": {},
   "outputs": [],
   "source": [
    "Single_inheritance=class_2()"
   ]
  },
  {
   "cell_type": "code",
   "execution_count": 14,
   "metadata": {},
   "outputs": [
    {
     "name": "stdout",
     "output_type": "stream",
     "text": [
      "This is class 1\n"
     ]
    }
   ],
   "source": [
    "Single_inheritance.test_1()"
   ]
  },
  {
   "cell_type": "code",
   "execution_count": 15,
   "metadata": {},
   "outputs": [],
   "source": [
    "#Multilevel Inheritance\n",
    "class class_1:\n",
    "    def test_1(self):\n",
    "        print(\"This is class 1\")\n",
    "\n",
    "class class_2(class_1):\n",
    "    def test_2(self):\n",
    "        print(\"This is class 2\")\n",
    "\n",
    "\n",
    "class class_3(class_2):\n",
    "    def test_3(self):\n",
    "        print(\"This is class 3\")"
   ]
  },
  {
   "cell_type": "code",
   "execution_count": 16,
   "metadata": {},
   "outputs": [],
   "source": [
    "Multilevel_Inheritance=class_3()"
   ]
  },
  {
   "cell_type": "code",
   "execution_count": 17,
   "metadata": {},
   "outputs": [
    {
     "name": "stdout",
     "output_type": "stream",
     "text": [
      "This is class 1\n"
     ]
    }
   ],
   "source": [
    "Multilevel_Inheritance.test_1()"
   ]
  },
  {
   "cell_type": "code",
   "execution_count": 18,
   "metadata": {},
   "outputs": [
    {
     "name": "stdout",
     "output_type": "stream",
     "text": [
      "This is class 2\n"
     ]
    }
   ],
   "source": [
    "Multilevel_Inheritance.test_2()"
   ]
  },
  {
   "cell_type": "code",
   "execution_count": 22,
   "metadata": {},
   "outputs": [],
   "source": [
    "Multilevel_Inheritance1=class_2()"
   ]
  },
  {
   "cell_type": "code",
   "execution_count": 23,
   "metadata": {},
   "outputs": [
    {
     "name": "stdout",
     "output_type": "stream",
     "text": [
      "This is class 1\n"
     ]
    }
   ],
   "source": [
    "Multilevel_Inheritance1.test_1()"
   ]
  },
  {
   "cell_type": "code",
   "execution_count": 19,
   "metadata": {},
   "outputs": [],
   "source": [
    "#Multiple Inheritance\n",
    "\n",
    "class class_A:\n",
    "    def test_A(self):\n",
    "        print(\"This is class A\")\n",
    "\n",
    "class class_B:\n",
    "    def test_B(self):\n",
    "        print(\"This is class B\")\n",
    "\n",
    "\n",
    "class class_C(class_A,class_B):\n",
    "    def test_C(self):\n",
    "        print(\"This is class C\")"
   ]
  },
  {
   "cell_type": "code",
   "execution_count": 20,
   "metadata": {},
   "outputs": [],
   "source": [
    "Muliple_Inheritance=class_C()"
   ]
  },
  {
   "cell_type": "code",
   "execution_count": 21,
   "metadata": {},
   "outputs": [
    {
     "name": "stdout",
     "output_type": "stream",
     "text": [
      "This is class A\n"
     ]
    }
   ],
   "source": [
    "Muliple_Inheritance.test_A()"
   ]
  },
  {
   "cell_type": "code",
   "execution_count": 24,
   "metadata": {},
   "outputs": [
    {
     "name": "stdout",
     "output_type": "stream",
     "text": [
      "This is class B\n"
     ]
    }
   ],
   "source": [
    "Muliple_Inheritance.test_B()"
   ]
  },
  {
   "cell_type": "code",
   "execution_count": 25,
   "metadata": {},
   "outputs": [],
   "source": [
    "#Hierarchical Inheritance\n",
    "\n",
    "class Parent1:  \n",
    "    def func_1(self):  \n",
    "        print (\"This function is defined inside the parent class.\")  \n",
    "  \n",
    "\n",
    "class Child_1(Parent1):  \n",
    "    def func_2(self):  \n",
    "        print (\"This function is defined inside the child 1.\")  \n",
    "  \n",
    " \n",
    "class Child_2(Parent1):  \n",
    "    def func_3(self):  \n",
    "        print (\"This function is defined inside the child 2.\") "
   ]
  },
  {
   "cell_type": "code",
   "execution_count": 26,
   "metadata": {},
   "outputs": [],
   "source": [
    "Child1=Child_1()"
   ]
  },
  {
   "cell_type": "code",
   "execution_count": 27,
   "metadata": {},
   "outputs": [
    {
     "name": "stdout",
     "output_type": "stream",
     "text": [
      "This function is defined inside the parent class.\n"
     ]
    }
   ],
   "source": [
    "Child1.func_1()"
   ]
  },
  {
   "cell_type": "code",
   "execution_count": 28,
   "metadata": {},
   "outputs": [
    {
     "name": "stdout",
     "output_type": "stream",
     "text": [
      "This function is defined inside the child 1.\n"
     ]
    }
   ],
   "source": [
    "Child1.func_2()"
   ]
  },
  {
   "cell_type": "code",
   "execution_count": 29,
   "metadata": {},
   "outputs": [],
   "source": [
    "Child2=Child_2()"
   ]
  },
  {
   "cell_type": "code",
   "execution_count": 30,
   "metadata": {},
   "outputs": [
    {
     "name": "stdout",
     "output_type": "stream",
     "text": [
      "This function is defined inside the parent class.\n"
     ]
    }
   ],
   "source": [
    "Child2.func_1()"
   ]
  },
  {
   "cell_type": "code",
   "execution_count": 31,
   "metadata": {},
   "outputs": [
    {
     "name": "stdout",
     "output_type": "stream",
     "text": [
      "This function is defined inside the child 2.\n"
     ]
    }
   ],
   "source": [
    "Child2.func_3()"
   ]
  },
  {
   "cell_type": "code",
   "execution_count": 32,
   "metadata": {},
   "outputs": [],
   "source": [
    "#Hybrid Inheritance\n",
    "\n",
    "class class_A:\n",
    "    def test_A(self):\n",
    "        print(\"This is class A\")\n",
    "\n",
    "class class_B:\n",
    "    def test_B(self):\n",
    "        print(\"This is class B\")\n",
    "\n",
    "\n",
    "class class_C(class_A,class_B):\n",
    "    def test_C(self):\n",
    "        print(\"This is class C\")\n",
    "\n",
    "\n",
    "class class_D(class_A):\n",
    "    def test_D(self):\n",
    "        print(\"This is class D\")\n",
    "\n",
    "class class_E(class_D):\n",
    "    def test_E(self):\n",
    "        print(\"This is class E\")\n",
    "\n",
    "\n",
    "class class_F(class_D):\n",
    "    def test_F(self):\n",
    "        print(\"This is class F\")"
   ]
  },
  {
   "cell_type": "code",
   "execution_count": null,
   "metadata": {},
   "outputs": [],
   "source": []
  },
  {
   "cell_type": "code",
   "execution_count": null,
   "metadata": {},
   "outputs": [],
   "source": []
  },
  {
   "cell_type": "code",
   "execution_count": null,
   "metadata": {},
   "outputs": [],
   "source": []
  },
  {
   "cell_type": "code",
   "execution_count": null,
   "metadata": {},
   "outputs": [],
   "source": []
  },
  {
   "cell_type": "code",
   "execution_count": null,
   "metadata": {},
   "outputs": [],
   "source": []
  },
  {
   "cell_type": "code",
   "execution_count": null,
   "metadata": {},
   "outputs": [],
   "source": []
  },
  {
   "cell_type": "code",
   "execution_count": null,
   "metadata": {},
   "outputs": [],
   "source": []
  },
  {
   "cell_type": "code",
   "execution_count": null,
   "metadata": {},
   "outputs": [],
   "source": []
  },
  {
   "cell_type": "code",
   "execution_count": null,
   "metadata": {},
   "outputs": [],
   "source": []
  }
 ],
 "metadata": {
  "kernelspec": {
   "display_name": "Python 3",
   "language": "python",
   "name": "python3"
  },
  "language_info": {
   "codemirror_mode": {
    "name": "ipython",
    "version": 3
   },
   "file_extension": ".py",
   "mimetype": "text/x-python",
   "name": "python",
   "nbconvert_exporter": "python",
   "pygments_lexer": "ipython3",
   "version": "3.11.2"
  },
  "orig_nbformat": 4
 },
 "nbformat": 4,
 "nbformat_minor": 2
}
