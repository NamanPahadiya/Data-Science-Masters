{
 "cells": [
  {
   "cell_type": "code",
   "execution_count": 3,
   "metadata": {},
   "outputs": [
    {
     "data": {
      "text/plain": [
       "\"While a syntax error occur when the interpreter encounters code that violates the language's syntax rules. \\n These errors are detected by the interpreter during the parsing phase, before the program is executed. \\n Syntax errors usually occur due to typos, missing or mismatched parentheses, incorrect indentation, or incorrect usage of keywords or operators. \\n Syntax errors must be fixed before the program can be executed\""
      ]
     },
     "execution_count": 3,
     "metadata": {},
     "output_type": "execute_result"
    }
   ],
   "source": [
    "#Ans1:\n",
    "\"\"\"An exception is an event that occurs during the execution of a program, which disrupts the normal flow of the program\n",
    " An exception is raised when an error or exceptional condition occurs, and if it is not handled properly, \n",
    " it can cause the program to terminate abruptly.\"\"\"\n",
    "\"\"\" Exceptions are raised during the runtime of a program when an error or exceptional condition occurs. \n",
    " These errors may be caused by various factors such as invalid input, arithmetic errors, file-related issues or unexpected conditions\"\"\"\n",
    "\"\"\"While a syntax error occur when the interpreter encounters code that violates the language's syntax rules. \n",
    " These errors are detected by the interpreter during the parsing phase, before the program is executed. \n",
    " Syntax errors usually occur due to typos, missing or mismatched parentheses, incorrect indentation, or incorrect usage of keywords or operators. \n",
    " Syntax errors must be fixed before the program can be executed\"\"\""
   ]
  },
  {
   "cell_type": "code",
   "execution_count": 7,
   "metadata": {},
   "outputs": [
    {
     "ename": "ZeroDivisionError",
     "evalue": "division by zero",
     "output_type": "error",
     "traceback": [
      "\u001b[1;31m---------------------------------------------------------------------------\u001b[0m",
      "\u001b[1;31mZeroDivisionError\u001b[0m                         Traceback (most recent call last)",
      "Cell \u001b[1;32mIn[7], line 6\u001b[0m\n\u001b[0;32m      2\u001b[0m \u001b[39m\"\"\"When an exception is not handled in it leads to an unhandled exception error, which causes the program to terminate abruptly. \u001b[39;00m\n\u001b[0;32m      3\u001b[0m \u001b[39mThe error message provides information about the type of exception that occurred\u001b[39;00m\n\u001b[0;32m      4\u001b[0m \u001b[39mIt will not execute rest of the code if exception is not handled\"\"\"\u001b[39;00m\n\u001b[0;32m      5\u001b[0m a\u001b[39m=\u001b[39m\u001b[39m10\u001b[39m\n\u001b[1;32m----> 6\u001b[0m a\u001b[39m/\u001b[39;49m\u001b[39m0\u001b[39;49m \u001b[39m#Divisio by zero is not defined therefore it is showing ZeroDivisionError\u001b[39;00m\n",
      "\u001b[1;31mZeroDivisionError\u001b[0m: division by zero"
     ]
    }
   ],
   "source": [
    "#Ans2:\n",
    "\"\"\"When an exception is not handled in it leads to an unhandled exception error, which causes the program to terminate abruptly. \n",
    "The error message provides information about the type of exception that occurred\n",
    "It will not execute rest of the code if exception is not handled\"\"\"\n",
    "a=10\n",
    "a/0 #Divisio by zero is not defined therefore it is showing ZeroDivisionError"
   ]
  },
  {
   "cell_type": "code",
   "execution_count": 7,
   "metadata": {},
   "outputs": [
    {
     "name": "stdout",
     "output_type": "stream",
     "text": [
      "division by zero\n",
      "It is printing this line though it is having a error\n"
     ]
    }
   ],
   "source": [
    "#We can handle exceptions by try and except statements.\n",
    "try:\n",
    "    a=10\n",
    "    a/0\n",
    "except ZeroDivisionError as e:\n",
    "    print(e)\n",
    "\n",
    "print(\"It is printing this line though it is having a error\")"
   ]
  },
  {
   "cell_type": "code",
   "execution_count": 8,
   "metadata": {},
   "outputs": [
    {
     "name": "stdout",
     "output_type": "stream",
     "text": [
      "unsupported operand type(s) for +: 'int' and 'str'\n"
     ]
    }
   ],
   "source": [
    "#Ans3:\n",
    "#In Python, the try-except statements are used to catch and handle exceptions. \n",
    "#The try block contains the code that may raise an exception, while the except block specifies how to handle the exception if it occurs.\n",
    "try: # TRy block contains the code which may raise the exception.\n",
    "    3500 + \"Data Science\"\n",
    "except TypeError as e: #If an exception occurs it jumps to except block.\n",
    "    print(e)"
   ]
  },
  {
   "cell_type": "code",
   "execution_count": 12,
   "metadata": {},
   "outputs": [
    {
     "name": "stdout",
     "output_type": "stream",
     "text": [
      "This statement will print if there is error in try block\n"
     ]
    }
   ],
   "source": [
    "#Ans4:\n",
    "\"\"\"Try and else\"\"\"\n",
    "try:\n",
    "    f=open(\"test.txt\",\"r\")\n",
    "    f.write(\"Example\")\n",
    "except Exception as e:\n",
    "    print(\"This statement will print if there is error in try block\")\n",
    "else:\n",
    "    f.close()\n",
    "    print(\"This block will execute only when try block execute without any exceptin\")"
   ]
  },
  {
   "cell_type": "code",
   "execution_count": 13,
   "metadata": {},
   "outputs": [
    {
     "name": "stdout",
     "output_type": "stream",
     "text": [
      "This will always execute\n"
     ]
    },
    {
     "ename": "IndexError",
     "evalue": "list index out of range",
     "output_type": "error",
     "traceback": [
      "\u001b[1;31m---------------------------------------------------------------------------\u001b[0m",
      "\u001b[1;31mIndexError\u001b[0m                                Traceback (most recent call last)",
      "Cell \u001b[1;32mIn[13], line 4\u001b[0m\n\u001b[0;32m      2\u001b[0m \u001b[39mtry\u001b[39;00m:\n\u001b[0;32m      3\u001b[0m     l\u001b[39m=\u001b[39m[\u001b[39m1\u001b[39m,\u001b[39m2\u001b[39m,\u001b[39m3\u001b[39m,\u001b[39m5\u001b[39m]\n\u001b[1;32m----> 4\u001b[0m     l[\u001b[39m7\u001b[39;49m]\n\u001b[0;32m      6\u001b[0m \u001b[39mfinally\u001b[39;00m:\n\u001b[0;32m      7\u001b[0m     \u001b[39mprint\u001b[39m(\u001b[39m\"\u001b[39m\u001b[39mThis will always execute\u001b[39m\u001b[39m\"\u001b[39m)\n",
      "\u001b[1;31mIndexError\u001b[0m: list index out of range"
     ]
    }
   ],
   "source": [
    "\"\"\"finally\"\"\"\n",
    "try:\n",
    "    l=[1,2,3,5]\n",
    "    l[7]\n",
    "\n",
    "finally:\n",
    "    print(\"This will always execute\")#Though there is error  but it is printing this line"
   ]
  },
  {
   "cell_type": "code",
   "execution_count": 4,
   "metadata": {},
   "outputs": [],
   "source": [
    "\"\"\"Raise\"\"\"\n",
    "class validspeed(Exception):\n",
    "    def __init__(self,msg):\n",
    "        self.msg=msg"
   ]
  },
  {
   "cell_type": "code",
   "execution_count": 5,
   "metadata": {},
   "outputs": [],
   "source": [
    "def valid_speed(speed):\n",
    "    if speed < 0 : # Raising a custom exception that speed cannot be negative\n",
    "        raise validspeed(\"Speed cannot be negative\")\n",
    "    else:\n",
    "        print(\"Speed is valid\")"
   ]
  },
  {
   "cell_type": "code",
   "execution_count": 6,
   "metadata": {},
   "outputs": [
    {
     "name": "stdout",
     "output_type": "stream",
     "text": [
      "-25\n",
      "Speed cannot be negative\n"
     ]
    }
   ],
   "source": [
    "try:\n",
    "    speed=int(input(\"Enter the speed\"))\n",
    "    print(speed)\n",
    "    valid_speed(speed)\n",
    "    \n",
    "except validspeed as e:\n",
    "    print(e)"
   ]
  },
  {
   "cell_type": "code",
   "execution_count": 9,
   "metadata": {},
   "outputs": [],
   "source": [
    "#Ans5:\n",
    "\"\"\"\n",
    "Custom exceptions are exceptions that you define yourself by creating new classes that inherit from the built-in Exception . \n",
    "These exceptions allow you to define specific types of errors or exceptional conditions that are relevant to your program or domain\"\"\"\n",
    "#Custom exceptions help in providing more specific error handling for different situations in your program\n",
    "#By using custom exception names it becomes easier for others (including yourself)to understand the purpose and possible causes of exceptions\n",
    "# Once you define a custom exception, it can be reused in multiple parts of your program or in different projects.\n",
    "\n",
    "\n",
    "class FileFormatError(Exception): #Creatin a sub class for Exception class\n",
    "\n",
    "    def __init__(self,file_name):\n",
    "        self.file_name=file_name\n",
    "        self.message=f\"Invalid file format:{file_name}\"\n",
    "\n",
    "    def __str__(self):\n",
    "        return self.message\n",
    "    \n",
    "\n"
   ]
  },
  {
   "cell_type": "code",
   "execution_count": 10,
   "metadata": {},
   "outputs": [],
   "source": [
    "def process_file(file_name):           \n",
    "    if not file_name.endswith(\".txt\"): # Raises the FileFormatError if the condition is  satisfied.\n",
    "        raise FileFormatError(file_name)\n",
    "    else:\n",
    "        print(\"File Processing SUccessful\")"
   ]
  },
  {
   "cell_type": "code",
   "execution_count": 13,
   "metadata": {},
   "outputs": [
    {
     "name": "stdout",
     "output_type": "stream",
     "text": [
      "Error: Invalid file format:document.docx\n"
     ]
    }
   ],
   "source": [
    "try:            #Using try and except bock for exception handling\n",
    "    file_name =\"document.docx\"\n",
    "    process_file(file_name)  \n",
    "except FileFormatError as e:\n",
    "    print(\"Error:\",e)"
   ]
  },
  {
   "cell_type": "code",
   "execution_count": 34,
   "metadata": {},
   "outputs": [],
   "source": [
    "#Ans6:\n",
    "class Withdrawalerror(Exception):\n",
    "    def __init__(self,amount,balance):\n",
    "        self.amount=amount\n",
    "        self.balance=balance\n",
    "        self.message =f\"Insufficient balance ({balance}) for withdrawal amount ({amount})\"\n",
    "\n",
    "    def __str__(self):\n",
    "        return self.message\n"
   ]
  },
  {
   "cell_type": "code",
   "execution_count": 35,
   "metadata": {},
   "outputs": [],
   "source": [
    "def MAkeWithdrawal(balance,amount):\n",
    "    if amount > balance:\n",
    "        raise Withdrawalerror(balance, amount)\n",
    "    else:\n",
    "        print(\"Withdrawal Successful\")"
   ]
  },
  {
   "cell_type": "code",
   "execution_count": 36,
   "metadata": {},
   "outputs": [
    {
     "name": "stdout",
     "output_type": "stream",
     "text": [
      "Error Insufficient balance (2000) for withdrawal amount (1000)\n"
     ]
    }
   ],
   "source": [
    "try:\n",
    "    balance =1000\n",
    "    withdrawal_amount=2000\n",
    "    MAkeWithdrawal(balance,withdrawal_amount)\n",
    "except Withdrawalerror as e:\n",
    "    print(\"Error\",e)"
   ]
  },
  {
   "cell_type": "code",
   "execution_count": null,
   "metadata": {},
   "outputs": [],
   "source": []
  },
  {
   "cell_type": "code",
   "execution_count": null,
   "metadata": {},
   "outputs": [],
   "source": []
  },
  {
   "cell_type": "code",
   "execution_count": null,
   "metadata": {},
   "outputs": [],
   "source": []
  },
  {
   "cell_type": "code",
   "execution_count": null,
   "metadata": {},
   "outputs": [],
   "source": []
  },
  {
   "cell_type": "code",
   "execution_count": null,
   "metadata": {},
   "outputs": [],
   "source": []
  },
  {
   "cell_type": "code",
   "execution_count": null,
   "metadata": {},
   "outputs": [],
   "source": []
  },
  {
   "cell_type": "code",
   "execution_count": null,
   "metadata": {},
   "outputs": [],
   "source": []
  },
  {
   "cell_type": "code",
   "execution_count": null,
   "metadata": {},
   "outputs": [],
   "source": []
  }
 ],
 "metadata": {
  "kernelspec": {
   "display_name": "Python 3",
   "language": "python",
   "name": "python3"
  },
  "language_info": {
   "codemirror_mode": {
    "name": "ipython",
    "version": 3
   },
   "file_extension": ".py",
   "mimetype": "text/x-python",
   "name": "python",
   "nbconvert_exporter": "python",
   "pygments_lexer": "ipython3",
   "version": "3.11.2"
  },
  "orig_nbformat": 4
 },
 "nbformat": 4,
 "nbformat_minor": 2
}
