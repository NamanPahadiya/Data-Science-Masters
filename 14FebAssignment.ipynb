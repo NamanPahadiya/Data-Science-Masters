{
 "cells": [
  {
   "cell_type": "code",
   "execution_count": 1,
   "metadata": {},
   "outputs": [],
   "source": [
    "#Ans1:\n",
    "#Multithreading refers to the concurrent execution of multiple threads within a single process.\n",
    "#Multithreading allows different parts of a program to run concurrently, enabling parallel execution of tasks.\n",
    "#It is used to call the functions simulltaneously in an automatic order.\n",
    "#It is used for parallel execution and resource sharing.\n",
    "#\"Threading\" module is used to handle threads."
   ]
  },
  {
   "cell_type": "code",
   "execution_count": 2,
   "metadata": {},
   "outputs": [
    {
     "data": {
      "text/plain": [
       "'\\nThis function returns a list of all Thread objects currently alive.\\n'"
      ]
     },
     "execution_count": 2,
     "metadata": {},
     "output_type": "execute_result"
    }
   ],
   "source": [
    "#Ans2:\n",
    "#Some of the reasons for using the threading module are:\n",
    "\"\"\"\n",
    "@Threading module contains thread classs which encapsulates creation and management of threads.\n",
    "@It helps in coordinating accesss to shared resources among multiple threads.\n",
    "@It provides various mechanisms for communication between threads like Queue and Pipe.\"\"\"\n",
    "\n",
    "#activeCount()\n",
    "\"\"\"\n",
    "This function returns the number of Thread objects currently alive. It gives the count of all threads, including the main thread.\n",
    "\"\"\"\n",
    "\n",
    "#currentThread()\n",
    "\"\"\"\n",
    "This function returns the currently executing Thread object.\n",
    "\"\"\"\n",
    "\n",
    "#enumerate()\n",
    "\"\"\"\n",
    "This function returns a list of all Thread objects currently alive.\n",
    "\"\"\""
   ]
  },
  {
   "cell_type": "code",
   "execution_count": 3,
   "metadata": {},
   "outputs": [
    {
     "data": {
      "text/plain": [
       "'\\nThis function is used to check if a thread is currently alive or running.\\nIt returns True if the thread is still executing and False otherwise.\\n'"
      ]
     },
     "execution_count": 3,
     "metadata": {},
     "output_type": "execute_result"
    }
   ],
   "source": [
    "#Ans3:\n",
    "#run():\n",
    "\"\"\"\n",
    "This function is part of the Thread class and represents the entry point for thread execution. \n",
    "It is called automatically when a thread is started using the start() method.\n",
    "\"\"\"\n",
    "\n",
    "#start():\n",
    "\"\"\"\n",
    "This function is used to start the execution of a thread.\n",
    "start() creates a new thread and invokes the run() method, enabling concurrent execution of the target function. \n",
    "On the other hand, run() runs the target function sequentially in the current thread without creating a new one.\n",
    " \"\"\"\n",
    "\n",
    "#join()\n",
    "\"\"\"\n",
    "This function is used to wait for a thread to complete its execution. \n",
    "When called on a thread object, it blocks the calling thread until the target thread finishes. \n",
    "The join() method is typically used after starting a thread using start()\n",
    "\"\"\"\n",
    "\n",
    "#isAlive():\n",
    "\"\"\"\n",
    "This function is used to check if a thread is currently alive or running.\n",
    "It returns True if the thread is still executing and False otherwise.\n",
    "\"\"\""
   ]
  },
  {
   "cell_type": "code",
   "execution_count": 16,
   "metadata": {},
   "outputs": [
    {
     "name": "stdout",
     "output_type": "stream",
     "text": [
      "Square of 0 is 0\n",
      "Square of 1 is 1\n",
      "Square of 2 is 4\n",
      "Square of 3 is 9\n",
      "Square of 4 is 16\n",
      "Square of 5 is 25\n",
      "Square of 6 is 36\n",
      "Square of 7 is 49\n",
      "Square of 8 is 64\n",
      "Square of 9 is 81\n",
      "Cube of 0 is 0\n",
      "Cube of 1 is 1\n",
      "Cube of 2 is 8\n",
      "Cube of 3 is 27\n",
      "Cube of 4 is 64\n",
      "Cube of 5 is 125\n",
      "Cube of 6 is 216\n",
      "Cube of 7 is 343\n",
      "Cube of 8 is 512\n",
      "Cube of 9 is 729\n"
     ]
    }
   ],
   "source": [
    "#Ans4:\n",
    "\n",
    "import threading\n",
    "\n",
    "\n",
    "def square(i):\n",
    "    print(\"Square of %d is %d\"%(i,i**2))\n",
    "\n",
    "\n",
    "def cube(i):\n",
    "         print(\"Cube of %d is %d\"%(i,i**3))\n",
    "    \n",
    "Thread_1 = [threading.Thread(target=square,args=(i,)) for i in range(10)]\n",
    "Thread_2 = [threading.Thread(target=cube,args=(i,)) for i in range(10)]\n",
    "\n",
    "for t in Thread_1:\n",
    "      t.start()\n",
    "\n",
    "for t in Thread_2:\n",
    "      t.start()\n",
    "\n",
    "# How do i print it in list form??\n",
    "\n",
    "\n"
   ]
  },
  {
   "cell_type": "code",
   "execution_count": 17,
   "metadata": {},
   "outputs": [
    {
     "data": {
      "text/plain": [
       "' Debugging and testing multithreaded programs can be more complex compared to single-threaded programs.'"
      ]
     },
     "execution_count": 17,
     "metadata": {},
     "output_type": "execute_result"
    }
   ],
   "source": [
    "#Ans5:\n",
    "\n",
    "#Advantages odf multithreading\n",
    "\"\"\"Multithreading allows multiple threads to run concurrently within a single process. \n",
    "This enables efficient utilization of system resources and can lead to improved performance.\"\"\"\n",
    "\"\"\"Multithreading enables parallelism, where multiple tasks are executed simultaneously.This can be beneficial in many cases\"\"\"\n",
    "\"\"\"Multithreading can enhance the responsiveness of an application by allowing it to perform multiple tasks simultaneously.\"\"\"\n",
    "\n",
    "#Disadvantages of Multithreading\n",
    "\"\"\" Multithreading introduces additional complexity to program design and development.\n",
    "It requires careful synchronization and coordination between threads\"\"\"\n",
    "\"\"\" Debugging and testing multithreaded programs can be more complex compared to single-threaded programs.\"\"\"\n",
    "\n",
    "\n"
   ]
  },
  {
   "cell_type": "code",
   "execution_count": null,
   "metadata": {},
   "outputs": [],
   "source": [
    "#Ans6:\n",
    "\n",
    "#Deadlock\n",
    "\"\"\"It typically happens when multiple threads acquire locks or resources in a different order, resulting in a circular wait\"\"\"\n",
    "\"\"\"Deadlock occurs when two or more threads are blocked indefinitely, waiting for each other to release resources or complete certain actions\"\"\"\n",
    "\n",
    "#Race conditions\n",
    "\"\"\"A race condition occurs when multiple threads access and manipulate shared data concurrently, resulting in unexpected or incorrect behavior.\"\"\"\n",
    "\"\"\"It happens when the final outcome of the program depends on the relative timing or interleaving of operations between threads.\"\"\"\""
   ]
  },
  {
   "cell_type": "code",
   "execution_count": null,
   "metadata": {},
   "outputs": [],
   "source": []
  },
  {
   "cell_type": "code",
   "execution_count": null,
   "metadata": {},
   "outputs": [],
   "source": []
  },
  {
   "cell_type": "code",
   "execution_count": null,
   "metadata": {},
   "outputs": [],
   "source": []
  },
  {
   "cell_type": "code",
   "execution_count": null,
   "metadata": {},
   "outputs": [],
   "source": []
  },
  {
   "cell_type": "code",
   "execution_count": null,
   "metadata": {},
   "outputs": [],
   "source": []
  },
  {
   "cell_type": "code",
   "execution_count": null,
   "metadata": {},
   "outputs": [],
   "source": []
  },
  {
   "cell_type": "code",
   "execution_count": null,
   "metadata": {},
   "outputs": [],
   "source": []
  },
  {
   "cell_type": "code",
   "execution_count": null,
   "metadata": {},
   "outputs": [],
   "source": []
  },
  {
   "cell_type": "code",
   "execution_count": null,
   "metadata": {},
   "outputs": [],
   "source": []
  },
  {
   "cell_type": "code",
   "execution_count": null,
   "metadata": {},
   "outputs": [],
   "source": []
  },
  {
   "cell_type": "code",
   "execution_count": null,
   "metadata": {},
   "outputs": [],
   "source": []
  },
  {
   "cell_type": "code",
   "execution_count": null,
   "metadata": {},
   "outputs": [],
   "source": []
  },
  {
   "cell_type": "code",
   "execution_count": null,
   "metadata": {},
   "outputs": [],
   "source": []
  },
  {
   "cell_type": "code",
   "execution_count": null,
   "metadata": {},
   "outputs": [],
   "source": []
  },
  {
   "cell_type": "code",
   "execution_count": null,
   "metadata": {},
   "outputs": [],
   "source": []
  }
 ],
 "metadata": {
  "kernelspec": {
   "display_name": "Python 3",
   "language": "python",
   "name": "python3"
  },
  "language_info": {
   "codemirror_mode": {
    "name": "ipython",
    "version": 3
   },
   "file_extension": ".py",
   "mimetype": "text/x-python",
   "name": "python",
   "nbconvert_exporter": "python",
   "pygments_lexer": "ipython3",
   "version": "3.11.2"
  },
  "orig_nbformat": 4
 },
 "nbformat": 4,
 "nbformat_minor": 2
}
