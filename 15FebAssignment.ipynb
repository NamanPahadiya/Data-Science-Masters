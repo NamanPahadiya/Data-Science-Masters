{
 "cells": [
  {
   "cell_type": "code",
   "execution_count": 2,
   "id": "6327c9c5-b682-46c5-816a-14f6e35c6ef2",
   "metadata": {},
   "outputs": [
    {
     "data": {
      "text/plain": [
       "'\\n@MultiProcessing is a technique of running multiple processes simultaneously to achieve parallel execution.\\n@It innvolves using multiple processors or CPU cores to execute tasks simultaneously.\\n@Multiprocessing enables better utilization of system resources, particularly in systems with multiple CPU cores.\\n@By offloading CPU-intensive tasks to separate processes, multiprocessing helps keep the main program responsive.\\n@ It allows the execution of multiple tasks simultaneously, distributing the workload across different processes and cores.\\n\\n'"
      ]
     },
     "execution_count": 2,
     "metadata": {},
     "output_type": "execute_result"
    }
   ],
   "source": [
    "#Ans1:\n",
    "\"\"\"\n",
    "@MultiProcessing is a technique of running multiple processes simultaneously to achieve parallel execution.\n",
    "@It innvolves using multiple processors or CPU cores to execute tasks simultaneously.\n",
    "@Multiprocessing enables better utilization of system resources, particularly in systems with multiple CPU cores.\n",
    "@By offloading CPU-intensive tasks to separate processes, multiprocessing helps keep the main program responsive.\n",
    "@ It allows the execution of multiple tasks simultaneously, distributing the workload across different processes and cores.\n",
    "\n",
    "\"\"\""
   ]
  },
  {
   "cell_type": "code",
   "execution_count": 3,
   "id": "194387a6-9ba4-4622-9a90-bf064fe28e02",
   "metadata": {},
   "outputs": [
    {
     "data": {
      "text/plain": [
       "'\\nMultiprocessing involves inter-process communication (IPC) mechanisms, such as pipes, queues, or shared memory.\\nMultithreading can directly access and modify shared data.\\n'"
      ]
     },
     "execution_count": 3,
     "metadata": {},
     "output_type": "execute_result"
    }
   ],
   "source": [
    "#Ans2:\n",
    "\"\"\"\n",
    "Multithreading runs multiple threads simultaneously within a single process,\n",
    "while Mulltiprocessing runs multiple processes simulltaneously within a single thread.\n",
    "\"\"\"\n",
    "\n",
    "\"\"\"\n",
    "Multiprocessing achieves concurrency by running multiple processes in parallel, utilizing multiple CPUs or CPU cores.\n",
    "Multithreading achieves concurrency by running multiple threads within a single process, utilizing time-slicing and thread scheduling.\n",
    "\"\"\"\n",
    "\n",
    "\"\"\"\n",
    "In multiprocessing, if one process crashes or encounters an error, it does not affect other processes. Processes are isolated from each other.\n",
    "In multithreading, if one thread encounters an error, it can affect the entire process, as threads share the same memory space. A crash or error in one thread can potentially crash the entire process\n",
    "\"\"\"\n",
    "\n",
    "\"\"\"\n",
    "Multiprocessing involves inter-process communication (IPC) mechanisms, such as pipes, queues, or shared memory.\n",
    "Multithreading can directly access and modify shared data.\n",
    "\"\"\""
   ]
  },
  {
   "cell_type": "code",
   "execution_count": 5,
   "id": "644340a1-8c2d-429c-bed6-a5415a29345a",
   "metadata": {},
   "outputs": [
    {
     "name": "stdout",
     "output_type": "stream",
     "text": [
      "This is my mai process\n",
      "This is my child processes\n"
     ]
    }
   ],
   "source": [
    "#Ans3:\n",
    "import multiprocessing\n",
    "\n",
    "def my_process():\n",
    "    print(\"This is my child processes\")\n",
    "    \n",
    "if __name__ == \"__main__\":\n",
    "    m = multiprocessing.Process(target=my_process)\n",
    "    print(\"This is my mai process\")\n",
    "    m.start()\n",
    "    m.join()\n",
    "    "
   ]
  },
  {
   "cell_type": "code",
   "execution_count": 7,
   "id": "0b222dd7-64f9-4613-b6d1-e09fc1d22e57",
   "metadata": {},
   "outputs": [
    {
     "data": {
      "text/plain": [
       "'\\n@The purpose of using MultiprocessesPool is to enable parallel execution.\\n@Tasks are submitted to the multiprocessing pool for execution.\\nThe pool automatically distributes the tasks among the available worker processes.\\n@After the tasks are executed by the worker processes, the multiprocessing pool collects and returns the results.\\n@The pool can distribute workoad and execute tasks concurrently.\\n'"
      ]
     },
     "execution_count": 7,
     "metadata": {},
     "output_type": "execute_result"
    }
   ],
   "source": [
    "#Ans4:\n",
    "\"\"\"\n",
    "A multiprocessing pool is a way to distribute the execution of tasks across multiple processes in a pool of workers. \n",
    "It allows you to parallelize and distribute the workload efficiently, making use of the available CPU cores.\n",
    "The multiprocessing pool is particularly useful when you have a set of independent tasks that can be executed concurrently. \n",
    "\"\"\"\n",
    "\n",
    "\"\"\"\n",
    "@The purpose of using MultiprocessesPool is to enable parallel execution.\n",
    "@Tasks are submitted to the multiprocessing pool for execution.\n",
    "The pool automatically distributes the tasks among the available worker processes.\n",
    "@After the tasks are executed by the worker processes, the multiprocessing pool collects and returns the results.\n",
    "@The pool can distribute workoad and execute tasks concurrently.\n",
    "\"\"\""
   ]
  },
  {
   "cell_type": "code",
   "execution_count": 13,
   "id": "6256fde2-01af-4775-b9c5-f9de25d3bc78",
   "metadata": {},
   "outputs": [
    {
     "name": "stdout",
     "output_type": "stream",
     "text": [
      "[121, 144, 169, 1, 1681, 25, 256, 289, 324, 361]\n"
     ]
    }
   ],
   "source": [
    "#Ans5:\n",
    "# You can create a pool of worker processes using the multiprocessing.Pool class from the multiprocessing module. \n",
    "\"\"\"Here's an example.\"\"\"\n",
    "import multiprocessing\n",
    "\n",
    "def square(i):\n",
    "    return i**2\n",
    "\n",
    "if __name__ == \"__main__\":\n",
    "    with multiprocessing.Pool(processes = 5) as pool:\n",
    "        out = pool.map(square,[11,12,13,1,41,5,16,17,18,19])\n",
    "        print(out)\n"
   ]
  },
  {
   "cell_type": "code",
   "execution_count": 8,
   "id": "f51fb0a7-655b-4c3b-9a62-1d9faa62a118",
   "metadata": {},
   "outputs": [
    {
     "name": "stdout",
     "output_type": "stream",
     "text": [
      "1\n",
      "2\n",
      "3\n",
      "4\n"
     ]
    }
   ],
   "source": [
    "#Ans6:\n",
    "\n",
    "import multiprocessing\n",
    "import time\n",
    "\n",
    "def number1():\n",
    "    print(1)\n",
    "\n",
    "def number2():\n",
    "    print(2)\n",
    "\n",
    "def number3():\n",
    "    print(3)\n",
    "\n",
    "def number4():\n",
    "    print(4)\n",
    "\n",
    "if __name__ == \"__main__\":\n",
    "    m1 = multiprocessing.Process(target=number1)\n",
    "    m2 = multiprocessing.Process(target=number2)\n",
    "    m3 = multiprocessing.Process(target=number3)\n",
    "    m4 = multiprocessing.Process(target=number4)\n",
    "    m1.start()\n",
    "    m2.start()\n",
    "    m3.start()\n",
    "    m4.start()\n",
    "\n",
    "    time.sleep(1)\n",
    "\n",
    "    m1.join()\n",
    "    m2.join()\n",
    "    m3.join()\n",
    "    m4.join()"
   ]
  },
  {
   "cell_type": "code",
   "execution_count": 14,
   "id": "47c7757d-07af-444f-a753-b4e05b5bd059",
   "metadata": {},
   "outputs": [
    {
     "name": "stdout",
     "output_type": "stream",
     "text": [
      "[101, 102, 103, 104]\n"
     ]
    }
   ],
   "source": [
    "# OR for Ans 6:\n",
    "import multiprocessing\n",
    "\n",
    "def print_numbers(number):\n",
    "    print(number)\n",
    "    \n",
    "if __name__ == \"__main__\":\n",
    "    processes =[]\n",
    "    numbers=[101,102,103,104]\n",
    "    m = multiprocessing.Process(target=print_numbers,args=(numbers,))\n",
    "    processes.append(m)\n",
    "    m.start()\n",
    "    \n",
    "    for m in processes:\n",
    "        m.join()"
   ]
  },
  {
   "cell_type": "code",
   "execution_count": null,
   "id": "83204cef-b5dd-4889-aff4-58ac08f7711e",
   "metadata": {},
   "outputs": [],
   "source": []
  },
  {
   "cell_type": "code",
   "execution_count": null,
   "id": "432cd773-20a9-4532-9d6d-7217385f809d",
   "metadata": {},
   "outputs": [],
   "source": []
  },
  {
   "cell_type": "code",
   "execution_count": null,
   "id": "4a595714-9620-48a8-bac6-8bd0cf5b5a4d",
   "metadata": {},
   "outputs": [],
   "source": []
  },
  {
   "cell_type": "code",
   "execution_count": null,
   "id": "6c55e6ae-8ee6-4a02-9385-9dc2255bcfbe",
   "metadata": {},
   "outputs": [],
   "source": []
  },
  {
   "cell_type": "code",
   "execution_count": null,
   "id": "a230658f-56ef-45fa-a4fa-0ff5c3be053c",
   "metadata": {},
   "outputs": [],
   "source": []
  },
  {
   "cell_type": "code",
   "execution_count": null,
   "id": "d442373f-53ec-478a-9244-42b0c7a0c8be",
   "metadata": {},
   "outputs": [],
   "source": []
  },
  {
   "cell_type": "code",
   "execution_count": null,
   "id": "04911b93-a3d3-4298-8dff-dfdb8f80af0d",
   "metadata": {},
   "outputs": [],
   "source": []
  },
  {
   "cell_type": "code",
   "execution_count": null,
   "id": "a2666d48-e1aa-4eab-9ffd-709bf7c04290",
   "metadata": {},
   "outputs": [],
   "source": []
  }
 ],
 "metadata": {
  "kernelspec": {
   "display_name": "Python 3 (ipykernel)",
   "language": "python",
   "name": "python3"
  },
  "language_info": {
   "codemirror_mode": {
    "name": "ipython",
    "version": 3
   },
   "file_extension": ".py",
   "mimetype": "text/x-python",
   "name": "python",
   "nbconvert_exporter": "python",
   "pygments_lexer": "ipython3",
   "version": "3.10.8"
  }
 },
 "nbformat": 4,
 "nbformat_minor": 5
}
